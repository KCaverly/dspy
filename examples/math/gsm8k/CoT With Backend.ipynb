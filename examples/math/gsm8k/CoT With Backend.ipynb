{
 "cells": [
  {
   "cell_type": "code",
   "execution_count": 1,
   "id": "8698d500-a137-4d37-8fc9-9946abe6905a",
   "metadata": {},
   "outputs": [],
   "source": [
    "# %load_ext autoreload\n",
    "# %autoreload 2\n",
    "# import sys; sys.path.append('/future/u/okhattab/repos/public/stanfordnlp/dspy')\n",
    "\n",
    "import dspy\n",
    "from dspy.evaluate import Evaluate\n",
    "from dspy.datasets.gsm8k import GSM8K, gsm8k_metric\n",
    "from dspy.teleprompt import BootstrapFewShotWithRandomSearch\n",
    "from dspy.modeling import JSONBackend, LiteLM"
   ]
  },
  {
   "cell_type": "code",
   "execution_count": 2,
   "id": "758e7833-9119-4206-9271-142159f975a2",
   "metadata": {},
   "outputs": [
    {
     "name": "stderr",
     "output_type": "stream",
     "text": [
      "100%|██████████████████████████████████████████████████████████████████████████████████████████████████████████████████████████████████████████████████| 7473/7473 [00:00<00:00, 43900.62it/s]\n",
      "100%|██████████████████████████████████████████████████████████████████████████████████████████████████████████████████████████████████████████████████| 1319/1319 [00:00<00:00, 40417.06it/s]\n"
     ]
    }
   ],
   "source": [
    "gms8k = GSM8K()\n",
    "\n",
    "lm = LiteLM(model=\"gpt-3.5-turbo\", default_params={\"max_tokens\": 500, \"temperature\": 0.5, \"num_retries\": 5})\n",
    "backend = JSONBackend(lm=lm, attempts=3)\n",
    "dspy.settings.configure(backend=backend)\n",
    "\n",
    "trainset, devset = gms8k.train, gms8k.dev"
   ]
  },
  {
   "cell_type": "code",
   "execution_count": 3,
   "id": "2721ab68-7566-42f0-a2a5-6dc3fd379e9a",
   "metadata": {},
   "outputs": [],
   "source": [
    "NUM_THREADS = 4\n",
    "evaluate = Evaluate(devset=devset[:], metric=gsm8k_metric, num_threads=NUM_THREADS, display_progress=True, display_table=0)"
   ]
  },
  {
   "cell_type": "code",
   "execution_count": 4,
   "id": "9820f6c7-99d4-4275-b6d2-92fc57f51b0d",
   "metadata": {},
   "outputs": [],
   "source": [
    "class CoT(dspy.Module):\n",
    "    def __init__(self):\n",
    "        super().__init__()\n",
    "        self.prog = dspy.ChainOfThought(\"question -> answer\")\n",
    "    \n",
    "    def forward(self, question):\n",
    "        return self.prog(question=question)"
   ]
  },
  {
   "cell_type": "code",
   "execution_count": 5,
   "id": "531b410e-6547-4dfe-a8b7-2a3687f1c2c9",
   "metadata": {},
   "outputs": [
    {
     "name": "stdout",
     "output_type": "stream",
     "text": [
      "Going to sample between 1 and 5 traces per predictor.\n",
      "Will attempt to train 5 candidate sets.\n"
     ]
    },
    {
     "name": "stderr",
     "output_type": "stream",
     "text": [
      "Average Metric: 174 / 300  (58.0): 100%|███████████████████████████████████████████████████████████████████████████████████████████████████████████████████| 300/300 [00:00<00:00, 474.27it/s]\n"
     ]
    },
    {
     "name": "stdout",
     "output_type": "stream",
     "text": [
      "Average Metric: 174 / 300  (58.0%)\n",
      "Score: 58.0 for set: [0]\n",
      "New best score: 58.0 for seed -3\n",
      "Scores so far: [58.0]\n",
      "Best score: 58.0\n"
     ]
    },
    {
     "name": "stderr",
     "output_type": "stream",
     "text": [
      "Average Metric: 8.0 / 53  (15.1):  17%|████████████████████▎                                                                                                | 52/300 [00:00<00:00, 269.06it/s]"
     ]
    },
    {
     "name": "stdout",
     "output_type": "stream",
     "text": [
      "Error for example in dev set: \t\t Generation failed, recursively attempts to complete did not succeed.\n"
     ]
    },
    {
     "name": "stderr",
     "output_type": "stream",
     "text": [
      "Average Metric: 24.0 / 136  (17.6):  45%|███████████████████████████████████████████████████▎                                                              | 135/300 [00:00<00:00, 259.98it/s]"
     ]
    },
    {
     "name": "stdout",
     "output_type": "stream",
     "text": [
      "Error for example in dev set: \t\t Generation failed, recursively attempts to complete did not succeed.\n",
      "Error for example in dev set: \t\t Generation failed, recursively attempts to complete did not succeed.\n"
     ]
    },
    {
     "name": "stderr",
     "output_type": "stream",
     "text": [
      "Average Metric: 53.0 / 300  (17.7): 100%|██████████████████████████████████████████████████████████████████████████████████████████████████████████████████| 300/300 [00:01<00:00, 293.84it/s]\n"
     ]
    },
    {
     "name": "stdout",
     "output_type": "stream",
     "text": [
      "Average Metric: 53.0 / 300  (17.7%)\n",
      "Score: 17.67 for set: [8]\n",
      "Scores so far: [58.0, 17.67]\n",
      "Best score: 58.0\n"
     ]
    },
    {
     "name": "stderr",
     "output_type": "stream",
     "text": [
      "  8%|████████████                                                                                                                                           | 16/200 [00:00<00:00, 390.20it/s]\n"
     ]
    },
    {
     "name": "stdout",
     "output_type": "stream",
     "text": [
      "Failed to run or to evaluate example Example({'question': 'Betty and Dora started making some cupcakes at the same time. Betty makes 10 cupcakes every hour and Dora makes 8 every hour. If Betty took a two-hour break, what is the difference between the number of cupcakes they made after 5 hours?', 'gold_reasoning': 'Dora made 8 cupcakes per hour for 5 hours for a total of 8*5 = <<8*5=40>>40 cupcakes Betty took a 2-hour break so she spent 5-2 = <<5-2=3>>3 hours making cupcakes Betty made 10 cupcakes per hour for 3 hours for a total of 10*3 = <<10*3=30>>30 cupcakes The difference between the number of cupcakes they made is 40-30 = <<40-30=10>>10 cupcakes', 'answer': '10'}) (input_keys={'question'}) with <function gsm8k_metric at 0x7fab4fe1ec10> due to Generation failed, recursively attempts to complete did not succeed..\n",
      "Failed to run or to evaluate example Example({'question': 'Billy is breeding mice for an experiment. He starts with 8 mice, who each have 6 pups. When the pups grow up, all the mice have another 6 pups. Then each adult mouse eats 2 of their pups due to the stress of overcrowding. How many mice are left?', 'gold_reasoning': 'First find the number of pups in the first generation: 8 mice * 6 pups/mouse = <<8*6=48>>48 pups Then add the number of adult mice to find the total number of mice: 48 pups + 8 mice = <<48+8=56>>56 mice Then find the number of pups per mouse that survive from the second generation: 6 pups/mouse - 2 pups/mouse = <<6-2=4>>4 pups/mouse Then multiply that number by the number of adult mice to find the number of pups in the second generation: 56 mice * 4 pups/mouse = <<56*4=224>>224 mice Then add the number of adult mice to the number of second-generation pups to find the total number of mice: 224 mice + 56 mice = <<224+56=280>>280 mice', 'answer': '280'}) (input_keys={'question'}) with <function gsm8k_metric at 0x7fab4fe1ec10> due to Generation failed, recursively attempts to complete did not succeed..\n",
      "Bootstrapped 5 full traces after 17 examples in round 0.\n"
     ]
    },
    {
     "name": "stderr",
     "output_type": "stream",
     "text": [
      "Average Metric: 193 / 300  (64.3): 100%|███████████████████████████████████████████████████████████████████████████████████████████████████████████████████| 300/300 [00:00<00:00, 484.48it/s]\n"
     ]
    },
    {
     "name": "stdout",
     "output_type": "stream",
     "text": [
      "Average Metric: 193 / 300  (64.3%)\n",
      "Score: 64.33 for set: [8]\n",
      "New best score: 64.33 for seed -1\n",
      "Scores so far: [58.0, 17.67, 64.33]\n",
      "Best score: 64.33\n",
      "Average of max per entry across top 1 scores: 0.6433333333333333\n",
      "Average of max per entry across top 2 scores: 0.8466666666666667\n",
      "Average of max per entry across top 3 scores: 0.8833333333333333\n",
      "Average of max per entry across top 5 scores: 0.8833333333333333\n",
      "Average of max per entry across top 8 scores: 0.8833333333333333\n",
      "Average of max per entry across top 9999 scores: 0.8833333333333333\n"
     ]
    },
    {
     "name": "stderr",
     "output_type": "stream",
     "text": [
      "  2%|███▊                                                                                                                                                    | 5/200 [00:00<00:00, 424.82it/s]\n"
     ]
    },
    {
     "name": "stdout",
     "output_type": "stream",
     "text": [
      "Bootstrapped 4 full traces after 6 examples in round 0.\n"
     ]
    },
    {
     "name": "stderr",
     "output_type": "stream",
     "text": [
      "Average Metric: 203 / 300  (67.7): 100%|███████████████████████████████████████████████████████████████████████████████████████████████████████████████████| 300/300 [00:00<00:00, 355.18it/s]\n"
     ]
    },
    {
     "name": "stdout",
     "output_type": "stream",
     "text": [
      "Average Metric: 203 / 300  (67.7%)\n",
      "Score: 67.67 for set: [8]\n",
      "New best score: 67.67 for seed 0\n",
      "Scores so far: [58.0, 17.67, 64.33, 67.67]\n",
      "Best score: 67.67\n",
      "Average of max per entry across top 1 scores: 0.6766666666666666\n",
      "Average of max per entry across top 2 scores: 0.8533333333333334\n",
      "Average of max per entry across top 3 scores: 0.9333333333333333\n",
      "Average of max per entry across top 5 scores: 0.9533333333333334\n",
      "Average of max per entry across top 8 scores: 0.9533333333333334\n",
      "Average of max per entry across top 9999 scores: 0.9533333333333334\n"
     ]
    },
    {
     "name": "stderr",
     "output_type": "stream",
     "text": [
      " 10%|███████████████                                                                                                                                        | 20/200 [00:00<00:00, 510.92it/s]\n"
     ]
    },
    {
     "name": "stdout",
     "output_type": "stream",
     "text": [
      "Bootstrapped 2 full traces after 21 examples in round 0.\n"
     ]
    },
    {
     "name": "stderr",
     "output_type": "stream",
     "text": [
      "Average Metric: 225 / 300  (75.0): 100%|███████████████████████████████████████████████████████████████████████████████████████████████████████████████████| 300/300 [00:00<00:00, 433.78it/s]\n"
     ]
    },
    {
     "name": "stdout",
     "output_type": "stream",
     "text": [
      "Average Metric: 225 / 300  (75.0%)\n",
      "Score: 75.0 for set: [8]\n",
      "New best score: 75.0 for seed 1\n",
      "Scores so far: [58.0, 17.67, 64.33, 67.67, 75.0]\n",
      "Best score: 75.0\n",
      "Average of max per entry across top 1 scores: 0.75\n",
      "Average of max per entry across top 2 scores: 0.91\n",
      "Average of max per entry across top 3 scores: 0.9566666666666667\n",
      "Average of max per entry across top 5 scores: 0.9833333333333333\n",
      "Average of max per entry across top 8 scores: 0.9833333333333333\n",
      "Average of max per entry across top 9999 scores: 0.9833333333333333\n"
     ]
    },
    {
     "name": "stderr",
     "output_type": "stream",
     "text": [
      "  2%|███▊                                                                                                                                                    | 5/200 [00:00<00:00, 368.26it/s]\n"
     ]
    },
    {
     "name": "stdout",
     "output_type": "stream",
     "text": [
      "Bootstrapped 1 full traces after 6 examples in round 0.\n"
     ]
    },
    {
     "name": "stderr",
     "output_type": "stream",
     "text": [
      "Average Metric: 215 / 300  (71.7): 100%|███████████████████████████████████████████████████████████████████████████████████████████████████████████████████| 300/300 [00:00<00:00, 354.99it/s]\n"
     ]
    },
    {
     "name": "stdout",
     "output_type": "stream",
     "text": [
      "Average Metric: 215 / 300  (71.7%)\n",
      "Score: 71.67 for set: [8]\n",
      "Scores so far: [58.0, 17.67, 64.33, 67.67, 75.0, 71.67]\n",
      "Best score: 75.0\n",
      "Average of max per entry across top 1 scores: 0.75\n",
      "Average of max per entry across top 2 scores: 0.9166666666666666\n",
      "Average of max per entry across top 3 scores: 0.9733333333333334\n",
      "Average of max per entry across top 5 scores: 0.9866666666666667\n",
      "Average of max per entry across top 8 scores: 0.9866666666666667\n",
      "Average of max per entry across top 9999 scores: 0.9866666666666667\n"
     ]
    },
    {
     "name": "stderr",
     "output_type": "stream",
     "text": [
      " 11%|████████████████▌                                                                                                                                      | 22/200 [00:00<00:00, 486.73it/s]\n"
     ]
    },
    {
     "name": "stdout",
     "output_type": "stream",
     "text": [
      "Bootstrapped 2 full traces after 23 examples in round 0.\n"
     ]
    },
    {
     "name": "stderr",
     "output_type": "stream",
     "text": [
      "Average Metric: 144 / 300  (48.0): 100%|███████████████████████████████████████████████████████████████████████████████████████████████████████████████████| 300/300 [00:00<00:00, 434.00it/s]\n"
     ]
    },
    {
     "name": "stdout",
     "output_type": "stream",
     "text": [
      "Average Metric: 144 / 300  (48.0%)\n",
      "Score: 48.0 for set: [8]\n",
      "Scores so far: [58.0, 17.67, 64.33, 67.67, 75.0, 71.67, 48.0]\n",
      "Best score: 75.0\n",
      "Average of max per entry across top 1 scores: 0.75\n",
      "Average of max per entry across top 2 scores: 0.9166666666666666\n",
      "Average of max per entry across top 3 scores: 0.9733333333333334\n",
      "Average of max per entry across top 5 scores: 0.9866666666666667\n",
      "Average of max per entry across top 8 scores: 0.9866666666666667\n",
      "Average of max per entry across top 9999 scores: 0.9866666666666667\n"
     ]
    },
    {
     "name": "stderr",
     "output_type": "stream",
     "text": [
      "  1%|█▌                                                                                                                                                      | 2/200 [00:00<00:00, 557.57it/s]\n"
     ]
    },
    {
     "name": "stdout",
     "output_type": "stream",
     "text": [
      "Bootstrapped 2 full traces after 3 examples in round 0.\n"
     ]
    },
    {
     "name": "stderr",
     "output_type": "stream",
     "text": [
      "Average Metric: 137 / 300  (45.7): 100%|███████████████████████████████████████████████████████████████████████████████████████████████████████████████████| 300/300 [00:00<00:00, 445.77it/s]\n"
     ]
    },
    {
     "name": "stdout",
     "output_type": "stream",
     "text": [
      "Average Metric: 137 / 300  (45.7%)\n",
      "Score: 45.67 for set: [8]\n",
      "Scores so far: [58.0, 17.67, 64.33, 67.67, 75.0, 71.67, 48.0, 45.67]\n",
      "Best score: 75.0\n",
      "Average of max per entry across top 1 scores: 0.75\n",
      "Average of max per entry across top 2 scores: 0.9166666666666666\n",
      "Average of max per entry across top 3 scores: 0.9733333333333334\n",
      "Average of max per entry across top 5 scores: 0.9866666666666667\n",
      "Average of max per entry across top 8 scores: 0.9933333333333333\n",
      "Average of max per entry across top 9999 scores: 0.9933333333333333\n",
      "8 candidate programs found.\n"
     ]
    }
   ],
   "source": [
    "RUN_FROM_SCRATCH = True\n",
    "\n",
    "if RUN_FROM_SCRATCH:\n",
    "    config = dict(max_bootstrapped_demos=5, max_labeled_demos=8, num_candidate_programs=5, num_threads=NUM_THREADS)\n",
    "    teleprompter = BootstrapFewShotWithRandomSearch(metric=gsm8k_metric, **config)\n",
    "    cot_bs = teleprompter.compile(CoT(), trainset=trainset, valset=devset)\n",
    "    # cot_bs.save('turbo_8_8_10_gsm8k_200_300.json')\n",
    "else:\n",
    "    cot_bs = CoT()\n",
    "    cot_bs.load('turbo_8_8_10_gsm8k_200_300.json')"
   ]
  },
  {
   "cell_type": "code",
   "execution_count": 6,
   "id": "499e1174-e6c5-4a68-ace1-15ec812c2276",
   "metadata": {},
   "outputs": [
    {
     "name": "stderr",
     "output_type": "stream",
     "text": [
      "Average Metric: 225 / 300  (75.0): 100%|███████████████████████████████████████████████████████████████████████████████████████████████████████████████████| 300/300 [00:00<00:00, 432.23it/s]\n"
     ]
    },
    {
     "name": "stdout",
     "output_type": "stream",
     "text": [
      "Average Metric: 225 / 300  (75.0%)\n"
     ]
    },
    {
     "data": {
      "text/plain": [
       "75.0"
      ]
     },
     "execution_count": 6,
     "metadata": {},
     "output_type": "execute_result"
    }
   ],
   "source": [
    "evaluate(cot_bs, devset=devset[:])"
   ]
  },
  {
   "cell_type": "code",
   "execution_count": 7,
   "id": "7c07fdb2-ab2d-4cec-9606-27ee45f192e7",
   "metadata": {},
   "outputs": [
    {
     "name": "stdout",
     "output_type": "stream",
     "text": [
      "Given the fields `question`, produce the fields `answer`.\n",
      "\n",
      "--\n",
      "\n",
      "Provided the following:\n",
      "Question: ${question}\n",
      "\n",
      "Please return the following fields:\n",
      "Reasoning: Let's think step by step in order to ${produce the answer}. We ...\n",
      "Answer: ${answer}\n",
      "\n",
      "According to the following JSON schema:\n",
      "{\"properties\": {\"question\": {\"title\": \"Question\", \"type\": \"string\"}, \"rationale\": {\"title\": \"Rationale\", \"type\": \"string\"}, \"answer\": {\"title\": \"Answer\", \"type\": \"string\"}}, \"required\": [\"question\", \"rationale\", \"answer\"]}\n",
      "\n",
      "--\n",
      "\n",
      "{\"question\": \"Nora is selling muffins to raise $120 for an upcoming school trip. She has packaged the muffins in cases. Each case has three packs of muffins. Each pack has four muffins. If she prices each muffin at two dollars, how many cases of muffins must she sell to raise enough money for the trip?\", \"rationale\": \"Let's think step by step in order to produce the answer. We know that each pack has 4 muffins and each case has 3 packs, so each case has 12 muffins. If each muffin is priced at $2, then each case is priced at $24. To raise $120, Nora needs to sell 5 cases of muffins (5 x $24 = $120). Therefore, the answer is 5 cases of muffins.\", \"answer\": \"5\"}\n",
      "\n",
      "--\n",
      "\n",
      "{\"question\": \"Betty and Dora started making some cupcakes at the same time. Betty makes 10 cupcakes every hour and Dora makes 8 every hour. If Betty took a two-hour break, what is the difference between the number of cupcakes they made after 5 hours?\", \"rationale\": \"Let's think step by step in order to produce the answer. We know that Betty makes 10 cupcakes every hour, so after 3 hours (since she took a 2-hour break), she would have made 30 cupcakes. Dora makes 8 cupcakes every hour, so after 5 hours, she would have made 40 cupcakes. The difference between 40 and 30 is 10, so the answer is 10.\", \"answer\": \"10\"}\n",
      "\n",
      "--\n",
      "\n",
      "{\"question\": \"Billy is breeding mice for an experiment. He starts with 8 mice, who each have 6 pups. When the pups grow up, all the mice have another 6 pups. Then each adult mouse eats 2 of their pups due to the stress of overcrowding. How many mice are left?\", \"answer\": \"280\"}\n",
      "\n",
      "--\n",
      "\n",
      "{\"question\": \"Mama bird has 6 babies in the nest.  She needs to feed each baby 3 worms a day.  Papa bird caught 9 worms. If she caught 13 worms and had 2 stolen, how many more does she need to catch to feed them for 3 days?\", \"answer\": \"34\"}\n",
      "\n",
      "--\n",
      "\n",
      "{\"question\": \"Each week Jaime saves $50. Every two weeks she spends $46 of her savings on a nice lunch with her mum. How long will it take her to save $135?\", \"answer\": \"5\"}\n",
      "\n",
      "--\n",
      "\n",
      "{\"question\": \"Sue works in a factory and every 30 minutes, a machine she oversees produces 30 cans of soda. How many cans of soda can one machine produce in 8 hours?\", \"answer\": \"480\"}\n",
      "\n",
      "--\n",
      "\n",
      "{\"question\": \"Teresa is 59 and her husband Morio is 71 years old. Their daughter, Michiko was born when Morio was 38.  How old was Teresa when she gave birth to Michiko?\", \"answer\": \"26\"}\n",
      "\n",
      "--\n",
      "\n",
      "{\"question\": \"There were 8000 jelly beans in a certain barrel, and 10 people lined up to take some. The first six people each took twice as many jelly beans as each of the last four people took. If the last four people each took 400 jelly beans, how many jelly beans remained in the container?\", \"answer\": \"1600\"}\n",
      "\n",
      "--\n",
      "\n",
      "{\"question\": \"Cloud 9 Diving Company has taken individual bookings worth $12,000 and group bookings worth $16,000. Some people have cancelled at the last minute. $1600 has had to be returned to them. How much money has the sky diving company taken altogether?\"}\n"
     ]
    }
   ],
   "source": [
    "print(backend.history[-1].prompt.to_str())"
   ]
  },
  {
   "cell_type": "code",
   "execution_count": null,
   "id": "67c1709a-f283-401b-9b58-354aa48c75d2",
   "metadata": {},
   "outputs": [],
   "source": []
  }
 ],
 "metadata": {
  "kernelspec": {
   "display_name": "Python 3 (ipykernel)",
   "language": "python",
   "name": "python3"
  },
  "language_info": {
   "codemirror_mode": {
    "name": "ipython",
    "version": 3
   },
   "file_extension": ".py",
   "mimetype": "text/x-python",
   "name": "python",
   "nbconvert_exporter": "python",
   "pygments_lexer": "ipython3",
   "version": "3.9.18"
  }
 },
 "nbformat": 4,
 "nbformat_minor": 5
}
